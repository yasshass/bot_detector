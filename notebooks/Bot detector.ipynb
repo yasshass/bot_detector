{
 "cells": [
  {
   "cell_type": "markdown",
   "id": "22b985dd",
   "metadata": {},
   "source": [
    "## Bot Detection\n",
    "- Data Exploration\n",
    "- Feature Engineering\n",
    "- Training and testind"
   ]
  },
  {
   "cell_type": "code",
   "execution_count": 107,
   "id": "de4c8599",
   "metadata": {},
   "outputs": [],
   "source": [
    "import pandas as pd\n",
    "import seaborn as sns\n",
    "import matplotlib.pyplot as plt\n",
    "from sklearn.pipeline import Pipeline\n",
    "from sklearn.base import BaseEstimator, TransformerMixin\n",
    "from functools import partial\n",
    "import numpy as np\n",
    "from sklearn.metrics import classification_report, confusion_matrix\n",
    "from sklearn.linear_model import LogisticRegression\n"
   ]
  },
  {
   "cell_type": "code",
   "execution_count": 3,
   "id": "111988ea",
   "metadata": {},
   "outputs": [],
   "source": [
    "events_pd = pd.read_csv(\"data/fake_users.csv\", index_col=0)"
   ]
  },
  {
   "cell_type": "markdown",
   "id": "bdea823f",
   "metadata": {},
   "source": [
    "### Data Exploration"
   ]
  },
  {
   "cell_type": "markdown",
   "id": "a0cff35d",
   "metadata": {},
   "source": [
    "##### Columns and types"
   ]
  },
  {
   "cell_type": "code",
   "execution_count": 7,
   "id": "aa800773",
   "metadata": {},
   "outputs": [
    {
     "data": {
      "text/html": [
       "<div>\n",
       "<style scoped>\n",
       "    .dataframe tbody tr th:only-of-type {\n",
       "        vertical-align: middle;\n",
       "    }\n",
       "\n",
       "    .dataframe tbody tr th {\n",
       "        vertical-align: top;\n",
       "    }\n",
       "\n",
       "    .dataframe thead th {\n",
       "        text-align: right;\n",
       "    }\n",
       "</style>\n",
       "<table border=\"1\" class=\"dataframe\">\n",
       "  <thead>\n",
       "    <tr style=\"text-align: right;\">\n",
       "      <th></th>\n",
       "      <th>UserId</th>\n",
       "      <th>Event</th>\n",
       "      <th>Category</th>\n",
       "      <th>Fake</th>\n",
       "    </tr>\n",
       "  </thead>\n",
       "  <tbody>\n",
       "    <tr>\n",
       "      <th>0</th>\n",
       "      <td>F7A7BF3761</td>\n",
       "      <td>click_carrousel</td>\n",
       "      <td>Phone</td>\n",
       "      <td>0</td>\n",
       "    </tr>\n",
       "    <tr>\n",
       "      <th>1</th>\n",
       "      <td>BA8F7A71E6</td>\n",
       "      <td>send_sms</td>\n",
       "      <td>Motor</td>\n",
       "      <td>0</td>\n",
       "    </tr>\n",
       "    <tr>\n",
       "      <th>2</th>\n",
       "      <td>21C64F22FC</td>\n",
       "      <td>send_email</td>\n",
       "      <td>Jobs</td>\n",
       "      <td>0</td>\n",
       "    </tr>\n",
       "    <tr>\n",
       "      <th>3</th>\n",
       "      <td>F9E0306603</td>\n",
       "      <td>send_sms</td>\n",
       "      <td>Jobs</td>\n",
       "      <td>0</td>\n",
       "    </tr>\n",
       "    <tr>\n",
       "      <th>4</th>\n",
       "      <td>1B2143BACC</td>\n",
       "      <td>click_ad</td>\n",
       "      <td>Phone</td>\n",
       "      <td>0</td>\n",
       "    </tr>\n",
       "  </tbody>\n",
       "</table>\n",
       "</div>"
      ],
      "text/plain": [
       "       UserId            Event Category  Fake\n",
       "0  F7A7BF3761  click_carrousel    Phone     0\n",
       "1  BA8F7A71E6         send_sms    Motor     0\n",
       "2  21C64F22FC       send_email     Jobs     0\n",
       "3  F9E0306603         send_sms     Jobs     0\n",
       "4  1B2143BACC         click_ad    Phone     0"
      ]
     },
     "execution_count": 7,
     "metadata": {},
     "output_type": "execute_result"
    }
   ],
   "source": [
    "events_pd.head(5)"
   ]
  },
  {
   "cell_type": "code",
   "execution_count": 8,
   "id": "21d1e13c",
   "metadata": {},
   "outputs": [
    {
     "data": {
      "text/plain": [
       "UserId      object\n",
       "Event       object\n",
       "Category    object\n",
       "Fake         int64\n",
       "dtype: object"
      ]
     },
     "execution_count": 8,
     "metadata": {},
     "output_type": "execute_result"
    }
   ],
   "source": [
    "events_pd.dtypes"
   ]
  },
  {
   "cell_type": "code",
   "execution_count": 9,
   "id": "710ff380",
   "metadata": {},
   "outputs": [
    {
     "data": {
      "text/plain": [
       "Index(['UserId', 'Event', 'Category', 'Fake'], dtype='object')"
      ]
     },
     "execution_count": 9,
     "metadata": {},
     "output_type": "execute_result"
    }
   ],
   "source": [
    "events_pd.columns"
   ]
  },
  {
   "cell_type": "markdown",
   "id": "9635a538",
   "metadata": {},
   "source": [
    "#### Completeness and volumetry "
   ]
  },
  {
   "cell_type": "code",
   "execution_count": 12,
   "id": "155513f4",
   "metadata": {},
   "outputs": [
    {
     "data": {
      "text/plain": [
       "UserId      100473\n",
       "Event       100473\n",
       "Category    100473\n",
       "Fake        100473\n",
       "dtype: int64"
      ]
     },
     "execution_count": 12,
     "metadata": {},
     "output_type": "execute_result"
    }
   ],
   "source": [
    "events_pd.count()"
   ]
  },
  {
   "cell_type": "code",
   "execution_count": 14,
   "id": "5760c7b2",
   "metadata": {},
   "outputs": [
    {
     "data": {
      "text/plain": [
       "5300"
      ]
     },
     "execution_count": 14,
     "metadata": {},
     "output_type": "execute_result"
    }
   ],
   "source": [
    "# number of users\n",
    "events_pd.UserId.nunique()"
   ]
  },
  {
   "cell_type": "code",
   "execution_count": 17,
   "id": "a7b43d20",
   "metadata": {},
   "outputs": [
    {
     "data": {
      "text/plain": [
       "18.957169811320753"
      ]
     },
     "execution_count": 17,
     "metadata": {},
     "output_type": "execute_result"
    }
   ],
   "source": [
    "# number of events per user\n",
    "events_pd.UserId.count() / users_pd.UserId.nunique() "
   ]
  },
  {
   "cell_type": "code",
   "execution_count": 144,
   "id": "514daf9c",
   "metadata": {},
   "outputs": [
    {
     "data": {
      "text/plain": [
       "Index(['Motor', 'Holidays', 'Leisure', 'Phone', 'Real_State', 'Jobs'], dtype='object')"
      ]
     },
     "execution_count": 144,
     "metadata": {},
     "output_type": "execute_result"
    }
   ],
   "source": [
    "events_pd.Category.value_counts().index"
   ]
  },
  {
   "cell_type": "code",
   "execution_count": 145,
   "id": "f312c61e",
   "metadata": {},
   "outputs": [],
   "source": [
    "list_Categories = ['Motor', 'Holidays', 'Leisure', 'Phone', 'Real_State', 'Jobs']"
   ]
  },
  {
   "cell_type": "markdown",
   "id": "ce52d0ea",
   "metadata": {},
   "source": [
    "#### Some countplots"
   ]
  },
  {
   "cell_type": "code",
   "execution_count": 25,
   "id": "b88a645e",
   "metadata": {},
   "outputs": [
    {
     "data": {
      "text/plain": [
       "<AxesSubplot:>"
      ]
     },
     "execution_count": 25,
     "metadata": {},
     "output_type": "execute_result"
    },
    {
     "data": {
      "image/png": "[encoded data removed]",
      "text/plain": [
       "<Figure size 432x288 with 1 Axes>"
      ]
     },
     "metadata": {
      "needs_background": "light"
     },
     "output_type": "display_data"
    }
   ],
   "source": [
    "events_pd.Category.value_counts().plot.bar()"
   ]
  },
  {
   "cell_type": "code",
   "execution_count": 28,
   "id": "1bee3570",
   "metadata": {},
   "outputs": [
    {
     "data": {
      "text/plain": [
       "send_email         22822\n",
       "click_ad           22201\n",
       "click_carrousel    18668\n",
       "phone_call         18430\n",
       "send_sms           18352\n",
       "Name: Event, dtype: int64"
      ]
     },
     "execution_count": 28,
     "metadata": {},
     "output_type": "execute_result"
    }
   ],
   "source": [
    "events_pd.Event.value_counts()"
   ]
  },
  {
   "cell_type": "code",
   "execution_count": 26,
   "id": "371b3df5",
   "metadata": {},
   "outputs": [
    {
     "data": {
      "text/plain": [
       "<AxesSubplot:>"
      ]
     },
     "execution_count": 26,
     "metadata": {},
     "output_type": "execute_result"
    },
    {
     "data": {
      "image/png": "[encoded data removed]",
      "text/plain": [
       "<Figure size 432x288 with 1 Axes>"
      ]
     },
     "metadata": {
      "needs_background": "light"
     },
     "output_type": "display_data"
    }
   ],
   "source": [
    "events_pd.Event.value_counts().plot.bar()"
   ]
  },
  {
   "cell_type": "code",
   "execution_count": 31,
   "id": "71046665",
   "metadata": {},
   "outputs": [
    {
     "data": {
      "text/plain": [
       "<AxesSubplot:xlabel='Event', ylabel='count'>"
      ]
     },
     "execution_count": 31,
     "metadata": {},
     "output_type": "execute_result"
    },
    {
     "data": {
      "image/png": "[encoded data removed]",
      "text/plain": [
       "<Figure size 432x288 with 1 Axes>"
      ]
     },
     "metadata": {
      "needs_background": "light"
     },
     "output_type": "display_data"
    }
   ],
   "source": [
    "sns.countplot(data=events_pd, x=\"Event\", hue=\"Fake\")"
   ]
  },
  {
   "cell_type": "code",
   "execution_count": 32,
   "id": "2222ef04",
   "metadata": {},
   "outputs": [
    {
     "data": {
      "text/plain": [
       "<AxesSubplot:xlabel='Category', ylabel='count'>"
      ]
     },
     "execution_count": 32,
     "metadata": {},
     "output_type": "execute_result"
    },
    {
     "data": {
      "image/png": "[encoded data removed]",
      "text/plain": [
       "<Figure size 432x288 with 1 Axes>"
      ]
     },
     "metadata": {
      "needs_background": "light"
     },
     "output_type": "display_data"
    }
   ],
   "source": [
    "sns.countplot(data=events_pd, x=\"Category\", hue=\"Fake\")"
   ]
  },
  {
   "cell_type": "markdown",
   "id": "f249095a",
   "metadata": {},
   "source": [
    "##### Users"
   ]
  },
  {
   "cell_type": "markdown",
   "id": "948d48cd",
   "metadata": {},
   "source": [
    "##### Numbers of events"
   ]
  },
  {
   "cell_type": "code",
   "execution_count": 101,
   "id": "565a78b2",
   "metadata": {},
   "outputs": [
    {
     "data": {
      "text/plain": [
       "<AxesSubplot:xlabel='Event', ylabel='count'>"
      ]
     },
     "execution_count": 101,
     "metadata": {},
     "output_type": "execute_result"
    },
    {
     "data": {
      "image/png": "[encoded data removed]",
      "text/plain": [
       "<Figure size 432x288 with 1 Axes>"
      ]
     },
     "metadata": {
      "needs_background": "light"
     },
     "output_type": "display_data"
    }
   ],
   "source": [
    "sns.countplot(data=events_pd.groupby([\"UserId\", \"Fake\"]).count().reset_index(), x=\"Event\", hue=\"Fake\")"
   ]
  },
  {
   "cell_type": "markdown",
   "id": "fb2b21cc",
   "metadata": {},
   "source": [
    "##### Variance of the number of events per Category"
   ]
  },
  {
   "cell_type": "code",
   "execution_count": 155,
   "id": "56ccaad5",
   "metadata": {},
   "outputs": [
    {
     "data": {
      "text/plain": [
       "<AxesSubplot:xlabel='0', ylabel='count'>"
      ]
     },
     "execution_count": 155,
     "metadata": {},
     "output_type": "execute_result"
    },
    {
     "data": {
      "image/png": "[encoded data removed]",
      "text/plain": [
       "<Figure size 2160x720 with 1 Axes>"
      ]
     },
     "metadata": {
      "needs_background": "light"
     },
     "output_type": "display_data"
    }
   ],
   "source": [
    "plt.figure(figsize=(30,10))\n",
    "data = events_pd.groupby([\"UserId\", \"Fake\"]).apply(lambda x : np.var([x[\"Category\"].value_counts().to_dict().get(cat, 0) for cat in list_Categories])).reset_index()\n",
    "sns.countplot(data=data, x=0, hue=\"Fake\")"
   ]
  },
  {
   "cell_type": "markdown",
   "id": "60dca40f",
   "metadata": {},
   "source": [
    "##### Number of 'send_email' and 'click_ad' events"
   ]
  },
  {
   "cell_type": "code",
   "execution_count": 114,
   "id": "87c3b94d",
   "metadata": {},
   "outputs": [
    {
     "data": {
      "text/plain": [
       "<AxesSubplot:xlabel='0', ylabel='count'>"
      ]
     },
     "execution_count": 114,
     "metadata": {},
     "output_type": "execute_result"
    },
    {
     "data": {
      "image/png": "[encoded data removed]",
      "text/plain": [
       "<Figure size 2160x720 with 1 Axes>"
      ]
     },
     "metadata": {
      "needs_background": "light"
     },
     "output_type": "display_data"
    }
   ],
   "source": [
    "plt.figure(figsize=(30,10))\n",
    "data = events_pd.groupby([\"UserId\", \"Fake\"]).apply(lambda x : sum(x[\"Event\"] == \"send_email\")).reset_index()\n",
    "sns.countplot(data=data, x=0, hue=\"Fake\")"
   ]
  },
  {
   "cell_type": "code",
   "execution_count": 118,
   "id": "154c0c16",
   "metadata": {},
   "outputs": [
    {
     "data": {
      "text/plain": [
       "<AxesSubplot:xlabel='0', ylabel='count'>"
      ]
     },
     "execution_count": 118,
     "metadata": {},
     "output_type": "execute_result"
    },
    {
     "data": {
      "image/png": "[encoded data removed]",
      "text/plain": [
       "<Figure size 2160x720 with 1 Axes>"
      ]
     },
     "metadata": {
      "needs_background": "light"
     },
     "output_type": "display_data"
    }
   ],
   "source": [
    "plt.figure(figsize=(30,10))\n",
    "data = events_pd.groupby([\"UserId\", \"Fake\"]).apply(lambda x : sum(x[\"Event\"] == \"click_ad\")).reset_index()\n",
    "sns.countplot(data=data, x=0, hue=\"Fake\")"
   ]
  },
  {
   "cell_type": "code",
   "execution_count": 119,
   "id": "307d717f",
   "metadata": {},
   "outputs": [
    {
     "data": {
      "text/plain": [
       "<AxesSubplot:xlabel='0', ylabel='count'>"
      ]
     },
     "execution_count": 119,
     "metadata": {},
     "output_type": "execute_result"
    },
    {
     "data": {
      "image/png": "[encoded data removed]",
      "text/plain": [
       "<Figure size 2160x720 with 1 Axes>"
      ]
     },
     "metadata": {
      "needs_background": "light"
     },
     "output_type": "display_data"
    }
   ],
   "source": [
    "plt.figure(figsize=(30,10))\n",
    "data = events_pd.groupby([\"UserId\", \"Fake\"]).apply(lambda x : sum(x[\"Event\"] == \"click_ad\") + sum(x[\"Event\"] == \"send_email\")).reset_index()\n",
    "sns.countplot(data=data, x=0, hue=\"Fake\")"
   ]
  },
  {
   "cell_type": "markdown",
   "id": "13920ff7",
   "metadata": {},
   "source": [
    "### Features engineering\n",
    "- Data aggregation\n",
    "- Features creation\n",
    "    - number of events\n",
    "    - events skewness : number of clicks_ad and send_mail events\n",
    "    - categories variance"
   ]
  },
  {
   "cell_type": "markdown",
   "id": "1205345e",
   "metadata": {},
   "source": [
    "#### Aggregation"
   ]
  },
  {
   "cell_type": "code",
   "execution_count": 40,
   "id": "2f41ba4c",
   "metadata": {},
   "outputs": [],
   "source": [
    "def agg_func(df, cat_vars, target_var):\n",
    "    res_dict = {target_var: df[target_var].max()}\n",
    "    for var in cat_vars:\n",
    "        res_dict[var] = df[var].value_counts().to_dict()\n",
    "    return pd.DataFrame([res_dict.values()], columns=res_dict.keys())"
   ]
  },
  {
   "cell_type": "code",
   "execution_count": 76,
   "id": "eb333767",
   "metadata": {},
   "outputs": [],
   "source": [
    "def aggregate_data(df, user_var, cat_vars, target_var):\n",
    "    agg_df = df.groupby(user_var).apply(partial(agg_func, cat_vars=cat_vars,\n",
    "                                                        target_var=target_var))\n",
    "    agg_df = agg_df.reset_index().drop(\"level_1\", axis=1)\n",
    "    return agg_df"
   ]
  },
  {
   "cell_type": "code",
   "execution_count": 77,
   "id": "97304e54",
   "metadata": {},
   "outputs": [],
   "source": [
    "data_agg = aggregate_data(events_pd, user_var=\"UserId\", cat_vars=[\"Category\", \"Event\"],\n",
    "                         target_var=\"Fake\")"
   ]
  },
  {
   "cell_type": "code",
   "execution_count": 78,
   "id": "e03d58a0",
   "metadata": {},
   "outputs": [
    {
     "data": {
      "text/html": [
       "<div>\n",
       "<style scoped>\n",
       "    .dataframe tbody tr th:only-of-type {\n",
       "        vertical-align: middle;\n",
       "    }\n",
       "\n",
       "    .dataframe tbody tr th {\n",
       "        vertical-align: top;\n",
       "    }\n",
       "\n",
       "    .dataframe thead th {\n",
       "        text-align: right;\n",
       "    }\n",
       "</style>\n",
       "<table border=\"1\" class=\"dataframe\">\n",
       "  <thead>\n",
       "    <tr style=\"text-align: right;\">\n",
       "      <th></th>\n",
       "      <th>UserId</th>\n",
       "      <th>Fake</th>\n",
       "      <th>Category</th>\n",
       "      <th>Event</th>\n",
       "    </tr>\n",
       "  </thead>\n",
       "  <tbody>\n",
       "    <tr>\n",
       "      <th>0</th>\n",
       "      <td>00079D439D</td>\n",
       "      <td>0</td>\n",
       "      <td>{'Phone': 18, 'Holidays': 1}</td>\n",
       "      <td>{'click_ad': 5, 'send_email': 4, 'phone_call':...</td>\n",
       "    </tr>\n",
       "    <tr>\n",
       "      <th>1</th>\n",
       "      <td>0007A4D4AE</td>\n",
       "      <td>0</td>\n",
       "      <td>{'Phone': 19, 'Leisure': 1}</td>\n",
       "      <td>{'click_carrousel': 7, 'click_ad': 5, 'phone_c...</td>\n",
       "    </tr>\n",
       "    <tr>\n",
       "      <th>2</th>\n",
       "      <td>000AFE2623</td>\n",
       "      <td>0</td>\n",
       "      <td>{'Holidays': 18, 'Motor': 1, 'Leisure': 1, 'Jo...</td>\n",
       "      <td>{'send_sms': 7, 'click_carrousel': 4, 'send_em...</td>\n",
       "    </tr>\n",
       "    <tr>\n",
       "      <th>3</th>\n",
       "      <td>001A5362BC</td>\n",
       "      <td>0</td>\n",
       "      <td>{'Leisure': 15, 'Holidays': 1}</td>\n",
       "      <td>{'send_email': 5, 'click_ad': 3, 'click_carrou...</td>\n",
       "    </tr>\n",
       "    <tr>\n",
       "      <th>4</th>\n",
       "      <td>0025995AF5</td>\n",
       "      <td>0</td>\n",
       "      <td>{'Phone': 14, 'Motor': 3, 'Real_State': 2, 'Ho...</td>\n",
       "      <td>{'click_carrousel': 7, 'click_ad': 4, 'send_sm...</td>\n",
       "    </tr>\n",
       "    <tr>\n",
       "      <th>...</th>\n",
       "      <td>...</td>\n",
       "      <td>...</td>\n",
       "      <td>...</td>\n",
       "      <td>...</td>\n",
       "    </tr>\n",
       "    <tr>\n",
       "      <th>5295</th>\n",
       "      <td>FFB0AC6E49</td>\n",
       "      <td>0</td>\n",
       "      <td>{'Leisure': 16, 'Real_State': 1, 'Jobs': 1}</td>\n",
       "      <td>{'click_ad': 5, 'send_sms': 5, 'send_email': 4...</td>\n",
       "    </tr>\n",
       "    <tr>\n",
       "      <th>5296</th>\n",
       "      <td>FFC56B0CDD</td>\n",
       "      <td>1</td>\n",
       "      <td>{'Motor': 6, 'Phone': 5, 'Jobs': 5, 'Holidays'...</td>\n",
       "      <td>{'send_email': 10, 'click_ad': 9, 'phone_call'...</td>\n",
       "    </tr>\n",
       "    <tr>\n",
       "      <th>5297</th>\n",
       "      <td>FFD2B9DC06</td>\n",
       "      <td>0</td>\n",
       "      <td>{'Leisure': 20}</td>\n",
       "      <td>{'click_carrousel': 6, 'phone_call': 5, 'send_...</td>\n",
       "    </tr>\n",
       "    <tr>\n",
       "      <th>5298</th>\n",
       "      <td>FFDF962B04</td>\n",
       "      <td>0</td>\n",
       "      <td>{'Phone': 12, 'Motor': 1, 'Jobs': 1, 'Real_Sta...</td>\n",
       "      <td>{'send_sms': 6, 'click_ad': 4, 'phone_call': 3...</td>\n",
       "    </tr>\n",
       "    <tr>\n",
       "      <th>5299</th>\n",
       "      <td>FFFDC1CD0F</td>\n",
       "      <td>0</td>\n",
       "      <td>{'Motor': 18, 'Leisure': 1}</td>\n",
       "      <td>{'click_carrousel': 6, 'send_sms': 5, 'click_a...</td>\n",
       "    </tr>\n",
       "  </tbody>\n",
       "</table>\n",
       "<p>5300 rows × 4 columns</p>\n",
       "</div>"
      ],
      "text/plain": [
       "          UserId  Fake                                           Category  \\\n",
       "0     00079D439D     0                       {'Phone': 18, 'Holidays': 1}   \n",
       "1     0007A4D4AE     0                        {'Phone': 19, 'Leisure': 1}   \n",
       "2     000AFE2623     0  {'Holidays': 18, 'Motor': 1, 'Leisure': 1, 'Jo...   \n",
       "3     001A5362BC     0                     {'Leisure': 15, 'Holidays': 1}   \n",
       "4     0025995AF5     0  {'Phone': 14, 'Motor': 3, 'Real_State': 2, 'Ho...   \n",
       "...          ...   ...                                                ...   \n",
       "5295  FFB0AC6E49     0        {'Leisure': 16, 'Real_State': 1, 'Jobs': 1}   \n",
       "5296  FFC56B0CDD     1  {'Motor': 6, 'Phone': 5, 'Jobs': 5, 'Holidays'...   \n",
       "5297  FFD2B9DC06     0                                    {'Leisure': 20}   \n",
       "5298  FFDF962B04     0  {'Phone': 12, 'Motor': 1, 'Jobs': 1, 'Real_Sta...   \n",
       "5299  FFFDC1CD0F     0                        {'Motor': 18, 'Leisure': 1}   \n",
       "\n",
       "                                                  Event  \n",
       "0     {'click_ad': 5, 'send_email': 4, 'phone_call':...  \n",
       "1     {'click_carrousel': 7, 'click_ad': 5, 'phone_c...  \n",
       "2     {'send_sms': 7, 'click_carrousel': 4, 'send_em...  \n",
       "3     {'send_email': 5, 'click_ad': 3, 'click_carrou...  \n",
       "4     {'click_carrousel': 7, 'click_ad': 4, 'send_sm...  \n",
       "...                                                 ...  \n",
       "5295  {'click_ad': 5, 'send_sms': 5, 'send_email': 4...  \n",
       "5296  {'send_email': 10, 'click_ad': 9, 'phone_call'...  \n",
       "5297  {'click_carrousel': 6, 'phone_call': 5, 'send_...  \n",
       "5298  {'send_sms': 6, 'click_ad': 4, 'phone_call': 3...  \n",
       "5299  {'click_carrousel': 6, 'send_sms': 5, 'click_a...  \n",
       "\n",
       "[5300 rows x 4 columns]"
      ]
     },
     "execution_count": 78,
     "metadata": {},
     "output_type": "execute_result"
    }
   ],
   "source": [
    "data_agg"
   ]
  },
  {
   "cell_type": "markdown",
   "id": "2c87a551",
   "metadata": {},
   "source": [
    "#### Features engineering pipeline"
   ]
  },
  {
   "cell_type": "code",
   "execution_count": 88,
   "id": "f93b3a9c",
   "metadata": {},
   "outputs": [],
   "source": [
    "class DropUnecessaryFeatures(BaseEstimator, TransformerMixin):\n",
    "\n",
    "    def __init__(self, variables_to_drop=None):\n",
    "        self.variables_to_drop = variables_to_drop\n",
    "\n",
    "    def fit(self, X, y=None):\n",
    "        return self\n",
    "\n",
    "    def transform(self, X):\n",
    "        # encode labels\n",
    "        X = X.copy()\n",
    "        X = X.drop(self.variables_to_drop, axis=1)\n",
    "\n",
    "        return X\n",
    "    \n",
    "    \n",
    "class CalculateCategoricalVariance(BaseEstimator, TransformerMixin):\n",
    "\n",
    "    def __init__(self, variables):\n",
    "        self.variables = variables\n",
    "\n",
    "    def fit(self, X, y=None):\n",
    "        return self\n",
    "\n",
    "    def transform(self, X):\n",
    "        # encode labels\n",
    "        X = X.copy()\n",
    "        for var in self.variables:\n",
    "            X[var] = X[var].map(lambda x: np.var(list(x.values())))\n",
    "        return X\n",
    "    \n",
    "class CountSubcategories(BaseEstimator, TransformerMixin):\n",
    "\n",
    "    def __init__(self, col_name, cat_var, subcategories=None):\n",
    "        self.subcategories = subcategories\n",
    "        self.col_name = col_name\n",
    "        self.cat_var = cat_var\n",
    "\n",
    "\n",
    "    def fit(self, X, y=None):\n",
    "        return self\n",
    "\n",
    "    def transform(self, X):\n",
    "        # encode labels\n",
    "        X = X.copy()\n",
    "        if self.subcategories is not None : \n",
    "            X[self.col_name] = X[self.cat_var].map(lambda x: np.sum([x.get(cat, 0) for cat in self.subcategories]))\n",
    "        else:\n",
    "            X[self.col_name] = X[self.cat_var].map(lambda x: np.sum(list(x.values())))            \n",
    "        return X"
   ]
  },
  {
   "cell_type": "code",
   "execution_count": 98,
   "id": "c8604bfd",
   "metadata": {},
   "outputs": [],
   "source": [
    "X = data_agg[[\"Category\", \"Event\"]]\n",
    "y = data_agg[\"Fake\"]"
   ]
  },
  {
   "cell_type": "code",
   "execution_count": 101,
   "id": "28355fc9",
   "metadata": {},
   "outputs": [],
   "source": [
    "features_pipeline = Pipeline(\n",
    "    [\n",
    "        ('count_events',\n",
    "            CountSubcategories(col_name=\"EventCount\", cat_var=\"Event\")),\n",
    "        ('calculate_categories_variance',\n",
    "            CalculateCategoricalVariance([\"Category\"])),\n",
    "        ('calculate_event_skewness',\n",
    "            CountSubcategories(col_name=\"EventSkewness\", cat_var=\"Event\",\n",
    "                   subcategories=[\"click_ad\", \"send_email\"])),\n",
    "        ('drop_features',\n",
    "            DropUnecessaryFeatures(variables_to_drop=[\"Event\"]))\n",
    "    ]\n",
    ")"
   ]
  },
  {
   "cell_type": "code",
   "execution_count": 100,
   "id": "49230e66",
   "metadata": {},
   "outputs": [
    {
     "data": {
      "text/html": [
       "<div>\n",
       "<style scoped>\n",
       "    .dataframe tbody tr th:only-of-type {\n",
       "        vertical-align: middle;\n",
       "    }\n",
       "\n",
       "    .dataframe tbody tr th {\n",
       "        vertical-align: top;\n",
       "    }\n",
       "\n",
       "    .dataframe thead th {\n",
       "        text-align: right;\n",
       "    }\n",
       "</style>\n",
       "<table border=\"1\" class=\"dataframe\">\n",
       "  <thead>\n",
       "    <tr style=\"text-align: right;\">\n",
       "      <th></th>\n",
       "      <th>Category</th>\n",
       "      <th>EventCount</th>\n",
       "      <th>EventSkewness</th>\n",
       "    </tr>\n",
       "  </thead>\n",
       "  <tbody>\n",
       "    <tr>\n",
       "      <th>0</th>\n",
       "      <td>72.2500</td>\n",
       "      <td>19</td>\n",
       "      <td>9</td>\n",
       "    </tr>\n",
       "    <tr>\n",
       "      <th>1</th>\n",
       "      <td>81.0000</td>\n",
       "      <td>20</td>\n",
       "      <td>8</td>\n",
       "    </tr>\n",
       "    <tr>\n",
       "      <th>2</th>\n",
       "      <td>54.1875</td>\n",
       "      <td>21</td>\n",
       "      <td>7</td>\n",
       "    </tr>\n",
       "    <tr>\n",
       "      <th>3</th>\n",
       "      <td>49.0000</td>\n",
       "      <td>16</td>\n",
       "      <td>8</td>\n",
       "    </tr>\n",
       "    <tr>\n",
       "      <th>4</th>\n",
       "      <td>24.5600</td>\n",
       "      <td>21</td>\n",
       "      <td>7</td>\n",
       "    </tr>\n",
       "    <tr>\n",
       "      <th>...</th>\n",
       "      <td>...</td>\n",
       "      <td>...</td>\n",
       "      <td>...</td>\n",
       "    </tr>\n",
       "    <tr>\n",
       "      <th>5295</th>\n",
       "      <td>50.0000</td>\n",
       "      <td>18</td>\n",
       "      <td>9</td>\n",
       "    </tr>\n",
       "    <tr>\n",
       "      <th>5296</th>\n",
       "      <td>0.9600</td>\n",
       "      <td>24</td>\n",
       "      <td>19</td>\n",
       "    </tr>\n",
       "    <tr>\n",
       "      <th>5297</th>\n",
       "      <td>0.0000</td>\n",
       "      <td>20</td>\n",
       "      <td>8</td>\n",
       "    </tr>\n",
       "    <tr>\n",
       "      <th>5298</th>\n",
       "      <td>22.6875</td>\n",
       "      <td>15</td>\n",
       "      <td>5</td>\n",
       "    </tr>\n",
       "    <tr>\n",
       "      <th>5299</th>\n",
       "      <td>72.2500</td>\n",
       "      <td>19</td>\n",
       "      <td>6</td>\n",
       "    </tr>\n",
       "  </tbody>\n",
       "</table>\n",
       "<p>5300 rows × 3 columns</p>\n",
       "</div>"
      ],
      "text/plain": [
       "      Category  EventCount  EventSkewness\n",
       "0      72.2500          19              9\n",
       "1      81.0000          20              8\n",
       "2      54.1875          21              7\n",
       "3      49.0000          16              8\n",
       "4      24.5600          21              7\n",
       "...        ...         ...            ...\n",
       "5295   50.0000          18              9\n",
       "5296    0.9600          24             19\n",
       "5297    0.0000          20              8\n",
       "5298   22.6875          15              5\n",
       "5299   72.2500          19              6\n",
       "\n",
       "[5300 rows x 3 columns]"
      ]
     },
     "execution_count": 100,
     "metadata": {},
     "output_type": "execute_result"
    }
   ],
   "source": [
    "features_pipeline.transform(X)"
   ]
  },
  {
   "cell_type": "markdown",
   "id": "395b19f1",
   "metadata": {},
   "source": [
    "## Training and testing"
   ]
  },
  {
   "cell_type": "code",
   "execution_count": 102,
   "id": "1ff3331f",
   "metadata": {},
   "outputs": [],
   "source": [
    "model_pipe = Pipeline(\n",
    "    [\n",
    "        ('count_events',\n",
    "            CountSubcategories(col_name=\"EventCount\", cat_var=\"Event\")),\n",
    "        ('calculate_categories_variance',\n",
    "            CalculateCategoricalVariance([\"Category\"])),\n",
    "        ('calculate_event_skewness',\n",
    "            CountSubcategories(col_name=\"EventSkewness\", cat_var=\"Event\",\n",
    "                   subcategories=[\"click_ad\", \"send_email\"])),\n",
    "        ('drop_features',\n",
    "            DropUnecessaryFeatures(variables_to_drop=[\"Event\"])),\n",
    "        ('lr_model',\n",
    "            LogisticRegression(random_state=0))\n",
    "    ]\n",
    ")"
   ]
  },
  {
   "cell_type": "code",
   "execution_count": 103,
   "id": "1a455d00",
   "metadata": {},
   "outputs": [
    {
     "data": {
      "text/plain": [
       "Pipeline(steps=[('count_events',\n",
       "                 CountSubcategories(cat_var='Event', col_name='EventCount')),\n",
       "                ('calculate_categories_variance',\n",
       "                 CalculateCategoricalVariance(variables=['Category'])),\n",
       "                ('calculate_event_skewness',\n",
       "                 CountSubcategories(cat_var='Event', col_name='EventSkewness',\n",
       "                                    subcategories=['click_ad', 'send_email'])),\n",
       "                ('drop_features',\n",
       "                 DropUnecessaryFeatures(variables_to_drop=['Event'])),\n",
       "                ('lr_model', LogisticRegression(random_state=0))])"
      ]
     },
     "execution_count": 103,
     "metadata": {},
     "output_type": "execute_result"
    }
   ],
   "source": [
    "model_pipe.fit(X, y)"
   ]
  },
  {
   "cell_type": "code",
   "execution_count": 104,
   "id": "25a689f5",
   "metadata": {},
   "outputs": [],
   "source": [
    "y_pred = model_pipe.predict(X)\n",
    "score_ = model_pipe.score(X, y)\n",
    "conf_m = confusion_matrix(y, y_pred)\n",
    "report = classification_report(y, y_pred)"
   ]
  },
  {
   "cell_type": "code",
   "execution_count": 108,
   "id": "ac289688",
   "metadata": {},
   "outputs": [
    {
     "data": {
      "text/plain": [
       "1.0"
      ]
     },
     "execution_count": 108,
     "metadata": {},
     "output_type": "execute_result"
    }
   ],
   "source": [
    "score_"
   ]
  },
  {
   "cell_type": "code",
   "execution_count": 105,
   "id": "43044faf",
   "metadata": {},
   "outputs": [
    {
     "data": {
      "text/plain": [
       "array([[5000,    0],\n",
       "       [   0,  300]])"
      ]
     },
     "execution_count": 105,
     "metadata": {},
     "output_type": "execute_result"
    }
   ],
   "source": [
    "conf_m"
   ]
  },
  {
   "cell_type": "code",
   "execution_count": 106,
   "id": "67eda679",
   "metadata": {},
   "outputs": [
    {
     "name": "stdout",
     "output_type": "stream",
     "text": [
      "report:\n",
      "              precision    recall  f1-score   support\n",
      "\n",
      "           0       1.00      1.00      1.00      5000\n",
      "           1       1.00      1.00      1.00       300\n",
      "\n",
      "    accuracy                           1.00      5300\n",
      "   macro avg       1.00      1.00      1.00      5300\n",
      "weighted avg       1.00      1.00      1.00      5300\n",
      "\n"
     ]
    }
   ],
   "source": [
    "print('report:', report, sep='\\n')"
   ]
  },
  {
   "cell_type": "markdown",
   "id": "692f316d",
   "metadata": {},
   "source": [
    "### Test data"
   ]
  },
  {
   "cell_type": "code",
   "execution_count": 109,
   "id": "492df9df",
   "metadata": {},
   "outputs": [],
   "source": [
    "events_pd_test = pd.read_csv(\"data/fake_users_test.csv\", index_col=0)"
   ]
  },
  {
   "cell_type": "code",
   "execution_count": 110,
   "id": "31760854",
   "metadata": {},
   "outputs": [],
   "source": [
    "data_test = aggregate_data(events_pd_test, user_var=\"UserId\", cat_vars=[\"Category\", \"Event\"],\n",
    "                         target_var=\"Fake\")"
   ]
  },
  {
   "cell_type": "code",
   "execution_count": 111,
   "id": "504de117",
   "metadata": {},
   "outputs": [],
   "source": [
    "X_test = data_test[[\"Category\", \"Event\"]]\n",
    "y_test = data_test[\"Fake\"]"
   ]
  },
  {
   "cell_type": "code",
   "execution_count": 112,
   "id": "a987521f",
   "metadata": {},
   "outputs": [],
   "source": [
    "y_test_pred = model_pipe.predict(X_test)\n",
    "score_ = model_pipe.score(X_test, y_test)\n",
    "conf_m = confusion_matrix(y_test, y_test_pred)\n",
    "report = classification_report(y_test, y_test_pred)"
   ]
  },
  {
   "cell_type": "code",
   "execution_count": 113,
   "id": "fed58435",
   "metadata": {},
   "outputs": [
    {
     "data": {
      "text/plain": [
       "array([[142,   0],\n",
       "       [  0,  10]])"
      ]
     },
     "execution_count": 113,
     "metadata": {},
     "output_type": "execute_result"
    }
   ],
   "source": [
    "conf_m"
   ]
  },
  {
   "cell_type": "code",
   "execution_count": 114,
   "id": "1b3f571e",
   "metadata": {},
   "outputs": [
    {
     "name": "stdout",
     "output_type": "stream",
     "text": [
      "report:\n",
      "              precision    recall  f1-score   support\n",
      "\n",
      "           0       1.00      1.00      1.00       142\n",
      "           1       1.00      1.00      1.00        10\n",
      "\n",
      "    accuracy                           1.00       152\n",
      "   macro avg       1.00      1.00      1.00       152\n",
      "weighted avg       1.00      1.00      1.00       152\n",
      "\n"
     ]
    }
   ],
   "source": [
    "print('report:', report, sep='\\n')"
   ]
  },
  {
   "cell_type": "markdown",
   "id": "e7703303",
   "metadata": {},
   "source": [
    "##### Without need to try diffrent ML models and tune parameters, we reach an accuracy of 1 on test data.\n",
    "### We select this model"
   ]
  }
 ],
 "metadata": {
  "kernelspec": {
   "display_name": "Python 3 (ipykernel)",
   "language": "python",
   "name": "python3"
  },
  "language_info": {
   "codemirror_mode": {
    "name": "ipython",
    "version": 3
   },
   "file_extension": ".py",
   "mimetype": "text/x-python",
   "name": "python",
   "nbconvert_exporter": "python",
   "pygments_lexer": "ipython3",
   "version": "3.8.3"
  }
 },
 "nbformat": 4,
 "nbformat_minor": 5
}
